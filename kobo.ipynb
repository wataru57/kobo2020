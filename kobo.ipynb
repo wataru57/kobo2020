{
  "nbformat": 4,
  "nbformat_minor": 0,
  "metadata": {
    "colab": {
      "name": "kobo.ipynb",
      "provenance": [],
      "collapsed_sections": []
    },
    "kernelspec": {
      "name": "python3",
      "display_name": "Python 3"
    }
  },
  "cells": [
    {
      "cell_type": "code",
      "metadata": {
        "id": "_FpVI5GSU1ff"
      },
      "source": [
        "import torch\n",
        "from torch.autograd import Variable\n",
        "import torch.nn as nn\n",
        "import torch.nn.functional as F\n",
        "import torch.optim as optim\n",
        "from torch.utils.data import DataLoader, TensorDataset\n",
        "\n",
        "import os\n",
        "from PIL import Image\n",
        "import numpy as np\n",
        "import pandas as pd\n",
        "from sklearn import datasets, model_selection\n",
        "import sys\n",
        "import cv2\n",
        "import matplotlib.pyplot as plt\n",
        "%matplotlib inline"
      ],
      "execution_count": 1,
      "outputs": []
    },
    {
      "cell_type": "code",
      "metadata": {
        "id": "4KvdDPoLU5E4",
        "outputId": "adda4137-2cc8-4550-8268-09a894061021",
        "colab": {
          "base_uri": "https://localhost:8080/"
        }
      },
      "source": [
        "from google.colab import drive\n",
        "drive.mount('/content/drive')"
      ],
      "execution_count": 2,
      "outputs": [
        {
          "output_type": "stream",
          "text": [
            "Mounted at /content/drive\n"
          ],
          "name": "stdout"
        }
      ]
    },
    {
      "cell_type": "code",
      "metadata": {
        "id": "wC251UeXVCKa"
      },
      "source": [
        "x = 32 # 0<x<128\n",
        "\n",
        "view = ['sea','mnt','sky','bld']\n",
        "#view_number = []\n",
        "#for i in range(len(view)):\n",
        "#  view_number.append(1.0/len(view)*i)\n",
        "\n",
        "time = ['day','sns','nit']\n",
        "time_number = []\n",
        "for i in range(len(time)):  time_number.append(1.0/len(time)*i)\n",
        "\n",
        "image_width = 128 - x\n",
        "image_length = 128 \n",
        "time_width = x\n",
        "time_length = 128"
      ],
      "execution_count": 19,
      "outputs": []
    },
    {
      "cell_type": "code",
      "metadata": {
        "id": "gXgGPjiFYXyv"
      },
      "source": [
        "image_data = []\n",
        "label_data = []\n",
        "k = 0\n",
        "\n",
        "files = os.listdir('./drive/My Drive/jk/') \n",
        "\n",
        "for f in files:\n",
        "  img = Image.open('./drive/My Drive/jk/' + f, 'r')\n",
        "\n",
        "  resize_img = img.resize((image_length, image_width))\n",
        "  r, g, b = resize_img.split()\n",
        "  r_resize_img = np.asarray(np.float32(r)/255.0)\n",
        "  g_resize_img = np.asarray(np.float32(g)/255.0)\n",
        "  b_resize_img = np.asarray(np.float32(b)/255.0)\n",
        "\n",
        "  time_name = f[4:7]\n",
        "  j = 0\n",
        "  for s in time:\n",
        "    if(time_name==s):\n",
        "      time_array_number = time_number[j]\n",
        "    j += 1\n",
        "  time_array = np.full((time_width, time_length), time_array_number)\n",
        "  a = np.concatenate([r_resize_img, time_array])\n",
        "  b = np.concatenate([g_resize_img, time_array])\n",
        "  c = np.concatenate([b_resize_img, time_array])\n",
        "  rgb_resize_img = np.asarray([a, b, c])\n",
        "  image_data.append(rgb_resize_img)\n",
        "  \n",
        "  view_name = f[0:3]\n",
        "  if(view_name=='sea'):\n",
        "    view_array_number = 0\n",
        "  if(view_name=='mnt'):\n",
        "    view_array_number = 1\n",
        "  if(view_name=='sky'):\n",
        "    view_array_number = 2\n",
        "  if(view_name=='bld'):\n",
        "    view_array_number = 3\n",
        "  #j = 0\n",
        "  #for s in view:\n",
        "  #  if(view_name==s):\n",
        "  #    view_array_number = view_number[j]\n",
        "  #  j += 1\n",
        "  label_data.append(view_array_number)\n",
        "  k += 1\n",
        "  print(k)"
      ],
      "execution_count": null,
      "outputs": []
    },
    {
      "cell_type": "code",
      "metadata": {
        "id": "Pp166GAucYq7"
      },
      "source": [
        "label_data"
      ],
      "execution_count": null,
      "outputs": []
    },
    {
      "cell_type": "code",
      "metadata": {
        "id": "h0KUBwJl2BdY"
      },
      "source": [
        "data = np.array(image_data, dtype='float32')\n",
        "label = np.array(label_data, dtype='int64')"
      ],
      "execution_count": 24,
      "outputs": []
    },
    {
      "cell_type": "code",
      "metadata": {
        "id": "Sf6Itbq4X3NM",
        "outputId": "50c4866b-430d-4706-b4d9-8aa7aff99ec0",
        "colab": {
          "base_uri": "https://localhost:8080/"
        }
      },
      "source": [
        "train_X, test_X, train_Y, test_Y = model_selection.train_test_split(\n",
        "    data, label, test_size=0.1)\n",
        "\n",
        "print(len(train_Y))\n",
        "print(len(test_Y))"
      ],
      "execution_count": 25,
      "outputs": [
        {
          "output_type": "stream",
          "text": [
            "322\n",
            "36\n"
          ],
          "name": "stdout"
        }
      ]
    },
    {
      "cell_type": "code",
      "metadata": {
        "id": "-udSzSNdX7MG"
      },
      "source": [
        "train_X = torch.from_numpy(train_X).float()\n",
        "train_Y = torch.from_numpy(train_Y).long()"
      ],
      "execution_count": 26,
      "outputs": []
    },
    {
      "cell_type": "code",
      "metadata": {
        "id": "aUPy-KQBYGWm"
      },
      "source": [
        "train = TensorDataset(train_X, train_Y)\n",
        "train_loader = DataLoader(train, batch_size=32, shuffle=True)"
      ],
      "execution_count": 27,
      "outputs": []
    },
    {
      "cell_type": "code",
      "metadata": {
        "id": "_q3YHDEyZGlq"
      },
      "source": [
        "class Net(nn.Module):\n",
        "  def __init__(self):\n",
        "    super(Net, self).__init__()\n",
        "    self.conv1 = nn.Conv2d(3, 10, 5)\n",
        "    self.conv2 = nn.Conv2d(10, 20, 5)\n",
        "    self.fc1 = nn.Linear(20*29*29, 50)\n",
        "    self.fc2 = nn.Linear(50, 4)\n",
        "  \n",
        "  def forward(self, x):\n",
        "    x = F.max_pool2d(F.relu(self.conv1(x)), 2)\n",
        "    x = F.max_pool2d(F.relu(self.conv2(x)), 2)\n",
        "    x = x.view(-1, 20*29*29)\n",
        "    x = F.relu(self.fc1(x))\n",
        "    x = self.fc2(x)\n",
        "    return F.log_softmax(x)\n",
        "\n",
        "model = Net()"
      ],
      "execution_count": 28,
      "outputs": []
    },
    {
      "cell_type": "code",
      "metadata": {
        "id": "PkMvfGmtd1VW",
        "outputId": "269dd1a7-952d-429c-c129-7c02365c1987",
        "colab": {
          "base_uri": "https://localhost:8080/"
        }
      },
      "source": [
        "criterion = nn.CrossEntropyLoss()\n",
        "optimizer = optim.Adam(model.parameters(), lr=0.001)\n",
        "\n",
        "for epoch in range(300):\n",
        "  total_loss = 0\n",
        "  for train_x, train_y in train_loader:\n",
        "    train_x, train_y = Variable(train_x), Variable(train_y)\n",
        "    optimizer.zero_grad()\n",
        "    output = model(train_x)\n",
        "    loss = criterion(output, train_y)\n",
        "    loss.backward()\n",
        "    optimizer.step()\n",
        "    total_loss += loss.data.item()\n",
        "  \n",
        "  if (epoch+1) % 50 == 0:\n",
        "    print(epoch+1, total_loss)"
      ],
      "execution_count": 29,
      "outputs": [
        {
          "output_type": "stream",
          "text": [
            "/usr/local/lib/python3.6/dist-packages/ipykernel_launcher.py:15: UserWarning: Implicit dimension choice for log_softmax has been deprecated. Change the call to include dim=X as an argument.\n",
            "  from ipykernel import kernelapp as app\n"
          ],
          "name": "stderr"
        },
        {
          "output_type": "stream",
          "text": [
            "50 0.026153408107347786\n",
            "100 0.004013788611700875\n",
            "150 0.0018869504783651792\n",
            "200 0.0008986702814581804\n",
            "250 0.0005803931271657348\n",
            "300 0.000298141217626835\n"
          ],
          "name": "stdout"
        }
      ]
    },
    {
      "cell_type": "code",
      "metadata": {
        "id": "W0a6sMo9iwah"
      },
      "source": [
        "test_X = np.array(test_X, dtype='float32')\n",
        "test_Y = np.array(test_Y, dtype='int64')\n",
        "\n",
        "test_X = torch.from_numpy(test_X).float()\n",
        "test_Y = torch.from_numpy(test_Y).long()"
      ],
      "execution_count": 31,
      "outputs": []
    },
    {
      "cell_type": "code",
      "metadata": {
        "id": "o8B9CJ_5irIt",
        "outputId": "bcf0915c-541d-4a69-aa16-9ce2e2b39c21",
        "colab": {
          "base_uri": "https://localhost:8080/"
        }
      },
      "source": [
        "test_x, test_y = Variable(test_X), Variable(test_Y)\n",
        "result = torch.max(model(test_x).data, 1)[1]\n",
        "accuracy = sum(test_y.data.numpy() == result.numpy()) / len(test_y.data.numpy())\n",
        "accuracy"
      ],
      "execution_count": 32,
      "outputs": [
        {
          "output_type": "stream",
          "text": [
            "/usr/local/lib/python3.6/dist-packages/ipykernel_launcher.py:15: UserWarning: Implicit dimension choice for log_softmax has been deprecated. Change the call to include dim=X as an argument.\n",
            "  from ipykernel import kernelapp as app\n"
          ],
          "name": "stderr"
        },
        {
          "output_type": "execute_result",
          "data": {
            "text/plain": [
              "0.6388888888888888"
            ]
          },
          "metadata": {
            "tags": []
          },
          "execution_count": 32
        }
      ]
    }
  ]
}