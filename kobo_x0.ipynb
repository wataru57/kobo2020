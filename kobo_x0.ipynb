{
  "nbformat": 4,
  "nbformat_minor": 0,
  "metadata": {
    "colab": {
      "name": "kobo.ipynb",
      "provenance": [],
      "collapsed_sections": []
    },
    "kernelspec": {
      "name": "python3",
      "display_name": "Python 3"
    }
  },
  "cells": [
    {
      "cell_type": "code",
      "metadata": {
        "id": "_FpVI5GSU1ff"
      },
      "source": [
        "#　必要なライブラリのインポート　#\n",
        "\n",
        "import torch\n",
        "from torch.autograd import Variable\n",
        "import torch.nn as nn\n",
        "import torch.nn.functional as F\n",
        "import torch.optim as optim\n",
        "from torch.utils.data import DataLoader, TensorDataset\n",
        "\n",
        "import os\n",
        "from PIL import Image\n",
        "import numpy as np\n",
        "import pandas as pd\n",
        "from sklearn import datasets, model_selection\n",
        "import sys\n",
        "import cv2\n",
        "import matplotlib.pyplot as plt\n",
        "%matplotlib inline"
      ],
      "execution_count": 1,
      "outputs": []
    },
    {
      "cell_type": "code",
      "metadata": {
        "id": "4KvdDPoLU5E4",
        "outputId": "9e32bc6f-7dd6-40cf-c16c-6e5053e48a7c",
        "colab": {
          "base_uri": "https://localhost:8080/"
        }
      },
      "source": [
        "#　ドライブからのファイルの引き出し　#\n",
        "\n",
        "from google.colab import drive\n",
        "drive.mount('/content/drive')"
      ],
      "execution_count": 2,
      "outputs": [
        {
          "output_type": "stream",
          "text": [
            "Mounted at /content/drive\n"
          ],
          "name": "stdout"
        }
      ]
    },
    {
      "cell_type": "code",
      "metadata": {
        "id": "wC251UeXVCKa"
      },
      "source": [
        "#　配列サイズや情報の割合などの指定　#\n",
        "\n",
        "x = 0 # 0<x<128　画像情報と時間情報の割合をここで指定　最小0で最大が128\n",
        "\n",
        "view = ['sea','mnt','sky','bld'] #　風景情報　それぞれ対応する数字は0～3\n",
        "time = ['day','sns','nit']\n",
        "time_number = []\n",
        "for i in range(len(time)):  time_number.append(1.0/len(time)*i) #　時間情報　こちらは0.0～1.0で正規化\n",
        "image_width = 128 - x #　画像ファイルの配列サイズ\n",
        "image_length = 128 \n",
        "time_width = x  #　時間情報の配列サイズ xに従って可変\n",
        "time_length = 128"
      ],
      "execution_count": 29,
      "outputs": []
    },
    {
      "cell_type": "code",
      "metadata": {
        "id": "gXgGPjiFYXyv",
        "outputId": "f97f8a91-655e-4ca7-dd52-c9200b1b812b",
        "colab": {
          "base_uri": "https://localhost:8080/"
        }
      },
      "source": [
        "#　画像とファイル名を読み込む　#\n",
        "\n",
        "image_data = [] #　画像情報と時間情報はこちらのリストに\n",
        "label_data = [] #　風景情報はこちらのリスト\n",
        "k = 0\n",
        "\n",
        "files = os.listdir('./drive/My Drive/jk/') #　ドライブからアップデート\n",
        "\n",
        "for f in files:\n",
        "  img = Image.open('./drive/My Drive/jk/' + f, 'r') #　ファイル名と画像情報の読み込み\n",
        "\n",
        "  #########　学習データの作成　#########\n",
        "  resize_img = img.resize((image_length, image_width)) #　画像のリサイズ\n",
        "  r, g, b = resize_img.split() #　画像をRBG値配列に分割\n",
        "  r_resize_img = np.asarray(np.float32(r)/255.0)\n",
        "  g_resize_img = np.asarray(np.float32(g)/255.0)\n",
        "  b_resize_img = np.asarray(np.float32(b)/255.0) #　RGB値の正規化\n",
        "\n",
        "  time_name = f[4:7] #　ファイル名から時間情報を抜き出す\n",
        "  j = 0\n",
        "  for s in time: #　時間情報を0～1に変換　ここではday:0、sns:0.333…、nit:0.666…となっている\n",
        "    if(time_name==s):\n",
        "      time_array_number = time_number[j]\n",
        "    j += 1\n",
        "  time_array = np.full((time_width, time_length), time_array_number) #　正規化された時間情報の配列を作る\n",
        "  a = np.concatenate([r_resize_img, time_array]) #　RGB値にそれぞれくっ付ける\n",
        "  b = np.concatenate([g_resize_img, time_array])\n",
        "  c = np.concatenate([b_resize_img, time_array])\n",
        "  rgb_resize_img = np.asarray([a, b, c]) #　RGB値配列を元に戻す(一つの画像にくっ付け直す)\n",
        "  image_data.append(rgb_resize_img) #　下準備が整ったのでリストに追加\n",
        "\n",
        "  #########　教師データの作成　#########\n",
        "  view_name = f[0:3] #　それぞれ対応する数字に変換\n",
        "  if(view_name=='sea'):\n",
        "    view_array_number = 0\n",
        "  if(view_name=='mnt'):\n",
        "    view_array_number = 1\n",
        "  if(view_name=='sky'):\n",
        "    view_array_number = 2\n",
        "  if(view_name=='bld'):\n",
        "    view_array_number = 3\n",
        "  label_data.append(view_array_number) #　リストに追加\n",
        "  k += 1\n",
        "  if((k+1)%50==0):\n",
        "    print(k+1)\n",
        "    print(\"load_OK\")"
      ],
      "execution_count": 30,
      "outputs": [
        {
          "output_type": "stream",
          "text": [
            "50\n",
            "load_OK\n",
            "100\n",
            "load_OK\n",
            "150\n",
            "load_OK\n",
            "200\n",
            "load_OK\n",
            "250\n",
            "load_OK\n",
            "300\n",
            "load_OK\n",
            "350\n",
            "load_OK\n"
          ],
          "name": "stdout"
        }
      ]
    },
    {
      "cell_type": "code",
      "metadata": {
        "id": "Sf6Itbq4X3NM",
        "outputId": "e0120d2d-caad-4da8-c20e-cff4e196fd54",
        "colab": {
          "base_uri": "https://localhost:8080/"
        }
      },
      "source": [
        "#　テンソルへ変換　#\n",
        "data = np.array(image_data, dtype='float32')\n",
        "label = np.array(label_data, dtype='int64')\n",
        "\n",
        "#　学習データとテストデータに分割　#\n",
        "train_X, test_X, train_Y, test_Y = model_selection.train_test_split(\n",
        "    data, label, test_size=0.1)\n",
        "\n",
        "print(len(train_Y))\n",
        "print(len(test_Y))"
      ],
      "execution_count": 32,
      "outputs": [
        {
          "output_type": "stream",
          "text": [
            "322\n",
            "36\n"
          ],
          "name": "stdout"
        }
      ]
    },
    {
      "cell_type": "code",
      "metadata": {
        "id": "-udSzSNdX7MG"
      },
      "source": [
        "#　テンソルへ変換　#\n",
        "train_X = torch.from_numpy(train_X).float()\n",
        "train_Y = torch.from_numpy(train_Y).long()"
      ],
      "execution_count": 33,
      "outputs": []
    },
    {
      "cell_type": "code",
      "metadata": {
        "id": "aUPy-KQBYGWm"
      },
      "source": [
        "#　学習のライブラリに合わせて成型  #\n",
        "train = TensorDataset(train_X, train_Y)\n",
        "train_loader = DataLoader(train, batch_size=32, shuffle=True)"
      ],
      "execution_count": 34,
      "outputs": []
    },
    {
      "cell_type": "code",
      "metadata": {
        "id": "_q3YHDEyZGlq"
      },
      "source": [
        "#　CNNの設計　#\n",
        "class Net(nn.Module):\n",
        "  def __init__(self):\n",
        "    super(Net, self).__init__()\n",
        "    self.conv1 = nn.Conv2d(3, 10, 5)\n",
        "    self.conv2 = nn.Conv2d(10, 20, 5)\n",
        "    self.fc1 = nn.Linear(20*29*29, 50) #　((((128-5)+1)/2-5)+1)/2 = 29\n",
        "    self.fc2 = nn.Linear(50, 4) # 出力は4パターン\n",
        "  def forward(self, x):\n",
        "    x = F.max_pool2d(F.relu(self.conv1(x)), 2)\n",
        "    x = F.max_pool2d(F.relu(self.conv2(x)), 2)\n",
        "    x = x.view(-1, 20*29*29)\n",
        "    x = F.relu(self.fc1(x))\n",
        "    x = self.fc2(x)\n",
        "    return F.log_softmax(x)\n",
        "\n",
        "model = Net()"
      ],
      "execution_count": 35,
      "outputs": []
    },
    {
      "cell_type": "code",
      "metadata": {
        "id": "PkMvfGmtd1VW",
        "outputId": "079c6b4a-10bc-4878-c9ea-2626bc156d90",
        "colab": {
          "base_uri": "https://localhost:8080/"
        }
      },
      "source": [
        "#　学習　#\n",
        "criterion = nn.CrossEntropyLoss()\n",
        "optimizer = optim.Adam(model.parameters(), lr=0.001)\n",
        "\n",
        "epoch_list = []\n",
        "loss_list = []\n",
        "\n",
        "for epoch in range(300):\n",
        "  total_loss = 0\n",
        "  for train_x, train_y in train_loader:\n",
        "    train_x, train_y = Variable(train_x), Variable(train_y)\n",
        "    optimizer.zero_grad()\n",
        "    output = model(train_x)\n",
        "    loss = criterion(output, train_y)\n",
        "    loss.backward()\n",
        "    optimizer.step()\n",
        "    total_loss += loss.data.item()\n",
        "  \n",
        "  if (epoch+1) % 50 == 0:\n",
        "    epoch_list.append(epoch+1)\n",
        "    loss_list.append(total_loss)\n",
        "    print(epoch+1, total_loss)"
      ],
      "execution_count": 36,
      "outputs": [
        {
          "output_type": "stream",
          "text": [
            "/usr/local/lib/python3.6/dist-packages/ipykernel_launcher.py:15: UserWarning: Implicit dimension choice for log_softmax has been deprecated. Change the call to include dim=X as an argument.\n",
            "  from ipykernel import kernelapp as app\n"
          ],
          "name": "stderr"
        },
        {
          "output_type": "stream",
          "text": [
            "50 0.022554620809387416\n",
            "100 0.0040793053558445536\n",
            "150 0.001655285591368738\n",
            "200 0.0010683769651222974\n",
            "250 0.0005162627830941346\n",
            "300 0.0003323391147205257\n"
          ],
          "name": "stdout"
        }
      ]
    },
    {
      "cell_type": "code",
      "metadata": {
        "id": "Yk4Wsn0G-RAN",
        "outputId": "6d52f28b-3214-4775-aad8-5769161d9d4b",
        "colab": {
          "base_uri": "https://localhost:8080/"
        }
      },
      "source": [
        "print(epoch_list)\n",
        "print(loss_list)"
      ],
      "execution_count": 37,
      "outputs": [
        {
          "output_type": "stream",
          "text": [
            "[50, 100, 150, 200, 250, 300]\n",
            "[0.022554620809387416, 0.0040793053558445536, 0.001655285591368738, 0.0010683769651222974, 0.0005162627830941346, 0.0003323391147205257]\n"
          ],
          "name": "stdout"
        }
      ]
    },
    {
      "cell_type": "code",
      "metadata": {
        "id": "W0a6sMo9iwah"
      },
      "source": [
        "#　テストデータを使ってチェックする為にこちらもテンソルに変換　#\n",
        "test_X = np.array(test_X, dtype='float32')\n",
        "test_Y = np.array(test_Y, dtype='int64')\n",
        "\n",
        "test_X = torch.from_numpy(test_X).float()\n",
        "test_Y = torch.from_numpy(test_Y).long()"
      ],
      "execution_count": 38,
      "outputs": []
    },
    {
      "cell_type": "code",
      "metadata": {
        "id": "o8B9CJ_5irIt",
        "outputId": "229e4cf8-53de-430c-f34c-77d092def0ec",
        "colab": {
          "base_uri": "https://localhost:8080/"
        }
      },
      "source": [
        "#　性能チェック　#\n",
        "test_x, test_y = Variable(test_X), Variable(test_Y)\n",
        "result = torch.max(model(test_x).data, 1)[1]\n",
        "accuracy = sum(test_y.data.numpy() == result.numpy()) / len(test_y.data.numpy())\n",
        "accuracy"
      ],
      "execution_count": 39,
      "outputs": [
        {
          "output_type": "stream",
          "text": [
            "/usr/local/lib/python3.6/dist-packages/ipykernel_launcher.py:15: UserWarning: Implicit dimension choice for log_softmax has been deprecated. Change the call to include dim=X as an argument.\n",
            "  from ipykernel import kernelapp as app\n"
          ],
          "name": "stderr"
        },
        {
          "output_type": "execute_result",
          "data": {
            "text/plain": [
              "0.6944444444444444"
            ]
          },
          "metadata": {
            "tags": []
          },
          "execution_count": 39
        }
      ]
    },
    {
      "cell_type": "code",
      "metadata": {
        "id": "vEFa7fCD2GGK",
        "outputId": "28c03658-18b8-4a89-e24d-3daa72b04681",
        "colab": {
          "base_uri": "https://localhost:8080/",
          "height": 278
        }
      },
      "source": [
        "#　グラフに描画　#\n",
        "x = np.array(epoch_list)\n",
        "y = np.array(loss_list)\n",
        "plt.xlabel(\"epochs\")\n",
        "plt.ylabel(\"loss\")\n",
        "plt.plot(x, y)\n",
        "plt.show()"
      ],
      "execution_count": 40,
      "outputs": [
        {
          "output_type": "display_data",
          "data": {
            "image/png": "[encoded data removed]",
            "text/plain": [
              "<Figure size 432x288 with 1 Axes>"
            ]
          },
          "metadata": {
            "tags": [],
            "needs_background": "light"
          }
        }
      ]
    }
  ]
}